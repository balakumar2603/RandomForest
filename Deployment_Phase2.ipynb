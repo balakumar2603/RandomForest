{
 "cells": [
  {
   "cell_type": "code",
   "execution_count": 1,
   "metadata": {},
   "outputs": [],
   "source": [
    "import pickle\n",
    "filename=\"finalized_random_forest.sav\"\n"
   ]
  },
  {
   "cell_type": "code",
   "execution_count": 2,
   "metadata": {},
   "outputs": [
    {
     "name": "stdout",
     "output_type": "stream",
     "text": [
      "R&D: 4000\n",
      "Administration: 3000\n",
      "Marketing 6000\n",
      "State Florida 0 or 11\n",
      "State New York 0 or 11\n"
     ]
    },
    {
     "data": {
      "text/plain": [
       "array([50071.3573])"
      ]
     },
     "execution_count": 2,
     "metadata": {},
     "output_type": "execute_result"
    }
   ],
   "source": [
    "loaded_model=pickle.load(open(\"finalized_random_forest.sav\",'rb'))\n",
    "rd_input=int(input(\"R&D: \"))\n",
    "admin_input=int(input(\"Administration: \"))\n",
    "marketting_input=int(input(\"Marketing \"))\n",
    "florida_input=int(input(\"State Florida 0 or 1\"))\n",
    "newyork_input=int(input(\"State New York 0 or 1\"))\n",
    "result=loaded_model.predict([[rd_input,admin_input,marketting_input,florida_input,newyork_input]])\n",
    "result"
   ]
  },
  {
   "cell_type": "code",
   "execution_count": null,
   "metadata": {},
   "outputs": [],
   "source": []
  }
 ],
 "metadata": {
  "kernelspec": {
   "display_name": "Python 3",
   "language": "python",
   "name": "python3"
  },
  "language_info": {
   "codemirror_mode": {
    "name": "ipython",
    "version": 3
   },
   "file_extension": ".py",
   "mimetype": "text/x-python",
   "name": "python",
   "nbconvert_exporter": "python",
   "pygments_lexer": "ipython3",
   "version": "3.7.4"
  }
 },
 "nbformat": 4,
 "nbformat_minor": 2
}
